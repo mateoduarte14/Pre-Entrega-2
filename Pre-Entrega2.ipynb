{
  "nbformat": 4,
  "nbformat_minor": 0,
  "metadata": {
    "colab": {
      "provenance": []
    },
    "kernelspec": {
      "name": "python3",
      "display_name": "Python 3"
    },
    "language_info": {
      "name": "python"
    }
  },
  "cells": [
    {
      "cell_type": "markdown",
      "source": [
        "CV automatico con OpenAI\n"
      ],
      "metadata": {
        "id": "l_QqDwNKAYVz"
      }
    },
    {
      "cell_type": "code",
      "execution_count": null,
      "metadata": {
        "id": "rnKP9ljJ2NxJ"
      },
      "outputs": [],
      "source": [
        "pip install openai==0.28 ##Instalamos la libreria de openai"
      ]
    },
    {
      "cell_type": "code",
      "source": [
        "import openai ##Importamos la libreria"
      ],
      "metadata": {
        "id": "XAiPNxVG5m4r"
      },
      "execution_count": null,
      "outputs": []
    },
    {
      "cell_type": "code",
      "source": [
        "openai.api_key = \"\" ##Ingresamos la API_Key\n",
        "cv_data = {} ##Creamos un diccionario para almacenar los datos del CV\n",
        "\n",
        "\n",
        "preguntas = {\n",
        "    \"nombre\": \"Ingresa tu Nombre Completo\",\n",
        "    \"puesto\": \"Indica a que puesto queres aplicar\"\n",
        "    \"profesion\": \"Ingresa cual es tu cargo actual\",\n",
        "    \"resumen\": \"Describi en 3 lineas tu perfil profesional\",\n",
        "    \"experiencia\": \"Describi tu experiencia laboral (empresa, cargo, años).\",\n",
        "    \"educacion\": \"Indica tus estudios (títulos y universidades).\",\n",
        "    \"habilidades\": \"Enumera tus habilidades.\",\n",
        "    \"idiomas\": \"Indica que idiomas hablas y el nivel de los mismos\",\n",
        "    \"contacto\": \"Proporciona tu correo o número de contacto.\"\n",
        "} ##Creamos otro diccionario con las preguntas que se le van a hacer al usuario\n",
        "\n",
        "\n",
        "for clave, pregunta in preguntas.items():\n",
        "    respuesta = input(pregunta + \" \")\n",
        "    cv_data[clave] = respuesta ##Guardamos la respuesta del usuario con la misma clave en el diccionario cv_data para luego usar esa informacion"
      ],
      "metadata": {
        "id": "AxiHyCnG5oAJ"
      },
      "execution_count": null,
      "outputs": []
    },
    {
      "cell_type": "code",
      "source": [
        "prompt = f\"\"\"\n",
        "Genera un currículum profesional para {cv_data['nombre']} que se postula para el puesto de {cv_data['puesto']}.\n",
        "El CV debe ser limpio, bien estructurado y con un tono formal y persuasivo.\n",
        "Incluye las siguientes secciones:\n",
        "**Cargo actual**: {cv_data['profesion']}\n",
        "**Experiencia laboral**: {cv_data['experiencia']}\n",
        "**Resumen profesional**: {cv_data['resumen']}\n",
        "**Educación**: {cv_data['educacion']}\n",
        "**Habilidades**: {cv_data['habilidades']}\n",
        "**Idiomas**: {cv_data['idiomas']}\n",
        "**Contacto**: {cv_data['contacto']}\n",
        "\n",
        "Utiliza viñetas para listar las habilidades y experiencias y asegúrate de que el formato sea claro, profesional y fácil de leer.\n",
        "\"\"\" ##Creamos el prompt que le vamos a pasar a la IA para la generacion del CV"
      ],
      "metadata": {
        "id": "IfkzZVmJ938G"
      },
      "execution_count": null,
      "outputs": []
    },
    {
      "cell_type": "code",
      "source": [
        "respuesta = openai.ChatCompletion.create(\n",
        "    model=\"gpt-4o\",\n",
        "    messages=[\n",
        "        {\"role\": \"system\", \"content\": \"Eres un experto en redacción de currículums profesionales en Español.\"},\n",
        "        {\"role\": \"user\", \"content\": prompt}\n",
        "    ]\n",
        ")##Le mandamos el prompt a la IA y como debe de comportarse\n",
        "\n",
        "cv_generado = respuesta[\"choices\"][0][\"message\"][\"content\"]\n",
        "print(cv_generado) ##Imprimimos el CV generado por la IA"
      ],
      "metadata": {
        "id": "tSPvaqoC8XGx"
      },
      "execution_count": null,
      "outputs": []
    },
    {
      "cell_type": "markdown",
      "source": [
        "CV automatico con groq"
      ],
      "metadata": {
        "id": "h9qbVVED8OmR"
      }
    },
    {
      "cell_type": "code",
      "source": [
        "pip install groq ##Instalamos la libreria de groq"
      ],
      "metadata": {
        "id": "WjPHYD3mBTD5"
      },
      "execution_count": null,
      "outputs": []
    },
    {
      "cell_type": "code",
      "source": [
        "from groq import Groq ##Importamos la libreria"
      ],
      "metadata": {
        "id": "HvzB7X78794N"
      },
      "execution_count": null,
      "outputs": []
    },
    {
      "cell_type": "code",
      "source": [
        "cliente = Groq(api_key='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') ##Ingresamos la API_Key\n",
        "\n",
        "cv_data = {} ##Creamos un diccionario para almacenar los datos del CV\n",
        "\n",
        "\n",
        "preguntas = {\n",
        "    \"nombre\": \"Ingresa tu Nombre Completo\",\n",
        "    \"profesion\": \"Ingresa cual es tu cargo actual\",\n",
        "    \"resumen\": \"Describi en 3 lineas tu perfil profesional\",\n",
        "    \"experiencia\": \"Describi tu experiencia laboral (empresa, cargo, años).\",\n",
        "    \"educacion\": \"Indica tus estudios (títulos y universidades).\",\n",
        "    \"habilidades\": \"Enumera tus habilidades.\",\n",
        "    \"idiomas\": \"Indica que idiomas hablas y el nivel de los mismos\",\n",
        "    \"contacto\": \"Proporciona tu correo o número de contacto.\"\n",
        "} ##Creamos otro diccionario con las preguntas que se le van a hacer al usuario\n",
        "\n",
        "\n",
        "for clave, pregunta in preguntas.items():\n",
        "    respuesta = input(pregunta + \" \")\n",
        "    cv_data[clave] = respuesta ##Guardamos la respuesta del usuario con la misma clave en el diccionario cv_data para luego usar esa informacion"
      ],
      "metadata": {
        "id": "I2E0853_s9KN"
      },
      "execution_count": null,
      "outputs": []
    },
    {
      "cell_type": "code",
      "source": [
        "prompt = f\"\"\"\n",
        "Genera un currículum profesional para {cv_data['nombre']} que se postula para el puesto de {cv_data['puesto']}.\n",
        "El CV debe ser limpio, bien estructurado y con un tono formal y persuasivo.\n",
        "Incluye las siguientes secciones:\n",
        "**Cargo actual**: {cv_data['profesion']}\n",
        "**Experiencia laboral**: {cv_data['experiencia']}\n",
        "**Resumen profesional**: {cv_data['resumen']}\n",
        "**Educación**: {cv_data['educacion']}\n",
        "**Habilidades**: {cv_data['habilidades']}\n",
        "**Idiomas**: {cv_data['idiomas']}\n",
        "**Contacto**: {cv_data['contacto']}\n",
        "\n",
        "Utiliza viñetas para listar las habilidades y experiencias y asegúrate de que el formato sea claro, profesional y fácil de leer.\n",
        "\"\"\" ##Creamos el prompt que le vamos a pasar a la IA para la generacion del CV"
      ],
      "metadata": {
        "id": "GcxFwi2sBT_c"
      },
      "execution_count": null,
      "outputs": []
    },
    {
      "cell_type": "code",
      "source": [
        "respuesta = cliente.chat.completions.create(\n",
        "    model=\"llama3-8b-8192\",\n",
        "    messages=[\n",
        "        {\"role\": \"system\", \"content\": \"Eres un experto en redacción de currículums profesionales en Español.\"},\n",
        "        {\"role\": \"user\", \"content\": prompt}\n",
        "    ]\n",
        ") ##Le mandamos el prompt a la IA y como debe de comportarse\n",
        "\n",
        "cv_generado = respuesta.choices[0].message.content\n",
        "\n",
        "print(cv_generado) ##Imprimimos el CV generado por la IA"
      ],
      "metadata": {
        "id": "wQRud9rO98ur"
      },
      "execution_count": null,
      "outputs": []
    }
  ]
}